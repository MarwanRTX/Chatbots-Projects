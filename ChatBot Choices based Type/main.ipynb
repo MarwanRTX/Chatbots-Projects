{
 "cells": [
  {
   "cell_type": "code",
   "execution_count": 2,
   "metadata": {},
   "outputs": [],
   "source": [
    "import re\n",
    "import random"
   ]
  },
  {
   "cell_type": "code",
   "execution_count": 6,
   "metadata": {},
   "outputs": [],
   "source": [
    "import re\n",
    "import random\n",
    "\n",
    "class ShopBot:\n",
    "    exit_commands = [\"quit\", \"exit\", \"goodbye\", \"bye\", \"later\", \"stop\"]\n",
    "    \n",
    "    menu = {\n",
    "        \"lemon\": 3,\n",
    "        \"tea\": 2,\n",
    "        \"coffee\": 5,\n",
    "        \"pizza\": 10,\n",
    "        \"burger\": 15\n",
    "    }\n",
    "    \n",
    "    def __init__(self):\n",
    "        self.responses = {\n",
    "            'ask_menu': [\"menu\",\"available items\",\"what do you have\"],\n",
    "            'ask_price': '(price of|cost of|how much is)\\s(\\w+)'\n",
    "        }\n",
    "\n",
    "    def greet(self):\n",
    "        self.name = input(\"What is your name?\\n\")\n",
    "        print(f\"Hi {self.name}! Welcome to our shop. How can I help you today?\")\n",
    "        self.chat()\n",
    "\n",
    "    def make_exit(self, reply):\n",
    "        for exit_command in self.exit_commands:\n",
    "            if exit_command in reply:\n",
    "                print(\"Thank you for visiting! Have a great day!\")\n",
    "                return True\n",
    "        return False\n",
    "\n",
    "    def match_reply(self, reply):\n",
    "        for intent, pattern in self.responses.items():\n",
    "            match = re.match(pattern, reply)\n",
    "            if match:\n",
    "                if intent == 'ask_menu':\n",
    "                    return self.get_menu()\n",
    "                elif intent == 'ask_price':\n",
    "                    item = match.group(2).lower()\n",
    "                    return self.get_price(item)\n",
    "        return \"I'm sorry, I didn't understand. Can you ask again?\"\n",
    "\n",
    "    def get_menu(self):\n",
    "        menu_items = \"\\n\".join([f\"{item.capitalize()} : ${price}\" for item, price in self.menu.items()])\n",
    "        return f\"Here is our menu:\\n{menu_items}\"\n",
    "\n",
    "    def get_price(self, item):\n",
    "        if item in self.menu:\n",
    "            return f\"The price of {item.capitalize()} is ${self.menu[item]}\"\n",
    "        return \"Sorry, we don't have that item.\"\n",
    "\n",
    "    def chat(self):\n",
    "        reply = input(\"How can I assist you today?\\n\").lower()\n",
    "        while not self.make_exit(reply):\n",
    "            reply = input(self.match_reply(reply) + \"\\n\").lower()\n",
    "\n",
    "# Run the chatbot\n",
    "bot = ShopBot()\n",
    "\n"
   ]
  },
  {
   "cell_type": "code",
   "execution_count": 27,
   "metadata": {},
   "outputs": [
    {
     "data": {
      "text/plain": [
       "'Here is our menu:\\nLemon : $3\\nTea : $2\\nCoffee : $5\\nPizza : $10\\nBurger : $15'"
      ]
     },
     "execution_count": 27,
     "metadata": {},
     "output_type": "execute_result"
    }
   ],
   "source": [
    "bot.get_menu()"
   ]
  },
  {
   "cell_type": "code",
   "execution_count": 24,
   "metadata": {},
   "outputs": [],
   "source": [
    "asd  = {\n",
    "    \"lemon\": 3,\n",
    "    \"tea\": [21312,12312],\n",
    "    \"coffee\": {\n",
    "        \"hot\": 5,\n",
    "        \"iced\": 6}\n",
    "}"
   ]
  },
  {
   "cell_type": "code",
   "execution_count": 26,
   "metadata": {},
   "outputs": [
    {
     "ename": "AttributeError",
     "evalue": "'str' object has no attribute 'keys'",
     "output_type": "error",
     "traceback": [
      "\u001b[1;31m---------------------------------------------------------------------------\u001b[0m",
      "\u001b[1;31mAttributeError\u001b[0m                            Traceback (most recent call last)",
      "Cell \u001b[1;32mIn[26], line 1\u001b[0m\n\u001b[1;32m----> 1\u001b[0m \u001b[43mbot\u001b[49m\u001b[38;5;241;43m.\u001b[39;49m\u001b[43mget_menu\u001b[49m\u001b[43m(\u001b[49m\u001b[43m)\u001b[49m\u001b[38;5;241;43m.\u001b[39;49m\u001b[43mkeys\u001b[49m()\n",
      "\u001b[1;31mAttributeError\u001b[0m: 'str' object has no attribute 'keys'"
     ]
    }
   ],
   "source": [
    "bot.get_menu().keys()"
   ]
  },
  {
   "cell_type": "code",
   "execution_count": null,
   "metadata": {},
   "outputs": [],
   "source": []
  }
 ],
 "metadata": {
  "kernelspec": {
   "display_name": "Python 3",
   "language": "python",
   "name": "python3"
  },
  "language_info": {
   "codemirror_mode": {
    "name": "ipython",
    "version": 3
   },
   "file_extension": ".py",
   "mimetype": "text/x-python",
   "name": "python",
   "nbconvert_exporter": "python",
   "pygments_lexer": "ipython3",
   "version": "3.11.9"
  }
 },
 "nbformat": 4,
 "nbformat_minor": 2
}
